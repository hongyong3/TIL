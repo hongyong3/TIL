{
 "cells": [
  {
   "cell_type": "code",
   "execution_count": 2,
   "metadata": {},
   "outputs": [
    {
     "name": "stdout",
     "output_type": "stream",
     "text": [
      "False\n",
      "True\n"
     ]
    }
   ],
   "source": [
    "# def palindrome(word):\n",
    "#     words = len(word)\n",
    "#     for i in range(words/2):\n",
    "#         if word[i] == word(-(1+i)):\n",
    "#             return False\n",
    "#     return True\n",
    "# palindrome(\"adad\")\n",
    "\n",
    "# palindrome 방법 1\n",
    "\n",
    "def ispalindrome(word):\n",
    "    left_word = 0\n",
    "    right_word = len(word) - 1\n",
    "    \n",
    "    while right_word >= left_word:\n",
    "        if word[left_word] != word[right_word]:\n",
    "            return False\n",
    "        left_word += 1\n",
    "        right_word -= 1\n",
    "    return True\n",
    "print(ispalindrome('tomato'))\n",
    "print(ispalindrome('saippuakivikauppias'))   "
   ]
  },
  {
   "cell_type": "code",
   "execution_count": 4,
   "metadata": {},
   "outputs": [
    {
     "name": "stdout",
     "output_type": "stream",
     "text": [
      "False\n",
      "True\n"
     ]
    }
   ],
   "source": [
    "# 선생님 풀이 palindrome 방법 2\n",
    "\n",
    "def ispalindrome(word):\n",
    "    list_word = list(word)\n",
    "    for i in range(len(list_word) // 2):\n",
    "        if list_word[i] != list_word[-(i+1)]:\n",
    "            return False\n",
    "    return True\n",
    "print(ispalindrome('tomato'))\n",
    "print(ispalindrome('saippuakivikauppias')) "
   ]
  },
  {
   "cell_type": "code",
   "execution_count": 6,
   "metadata": {},
   "outputs": [
    {
     "name": "stdout",
     "output_type": "stream",
     "text": [
      "False\n",
      "True\n"
     ]
    }
   ],
   "source": [
    "# 선생님 풀이 palindrome 방법 3\n",
    "\n",
    "def ispalindrome(word):\n",
    "    return list(word) == list(reversed(word))\n",
    "print(ispalindrome('tomato'))\n",
    "print(ispalindrome('saippuakivikauppias'))"
   ]
  },
  {
   "cell_type": "code",
   "execution_count": 7,
   "metadata": {},
   "outputs": [
    {
     "name": "stdout",
     "output_type": "stream",
     "text": [
      "False\n",
      "True\n"
     ]
    }
   ],
   "source": [
    "# 선생님 풀이 palindrome 방법 4\n",
    "\n",
    "def ispalindrome(word):\n",
    "    #[시작 : 끝 : 간격]\n",
    "    return list(word) == list(word[::-1])\n",
    "print(ispalindrome('tomato'))\n",
    "print(ispalindrome('saippuakivikauppias'))"
   ]
  },
  {
   "cell_type": "code",
   "execution_count": 14,
   "metadata": {},
   "outputs": [
    {
     "data": {
      "text/plain": [
       "[3, 4, 5, 6, 7, 8, 9]"
      ]
     },
     "execution_count": 14,
     "metadata": {},
     "output_type": "execute_result"
    }
   ],
   "source": [
    "#slice 예\n",
    "\n",
    "test_slice = list(range(10))\n",
    "test_slice\n",
    "test_slice[::2]\n",
    "test_slice[1::2]\n",
    "test_slice[::-1]\n",
    "test_slice[3::1]"
   ]
  },
  {
   "cell_type": "code",
   "execution_count": 5,
   "metadata": {},
   "outputs": [
    {
     "name": "stdout",
     "output_type": "stream",
     "text": [
      "True\n"
     ]
    }
   ],
   "source": [
    "#내 풀이\n",
    "\n",
    "def palindrome(word):\n",
    "    words = len(word)\n",
    "    for i in range(words // 2):\n",
    "        if word[i] == word[-(1+i)]:\n",
    "            return False\n",
    "    return True\n",
    "print(palindrome(\"adad\"))"
   ]
  }
 ],
 "metadata": {
  "kernelspec": {
   "display_name": "Python 3",
   "language": "python",
   "name": "python3"
  },
  "language_info": {
   "codemirror_mode": {
    "name": "ipython",
    "version": 3
   },
   "file_extension": ".py",
   "mimetype": "text/x-python",
   "name": "python",
   "nbconvert_exporter": "python",
   "pygments_lexer": "ipython3",
   "version": "3.6.7"
  }
 },
 "nbformat": 4,
 "nbformat_minor": 2
}

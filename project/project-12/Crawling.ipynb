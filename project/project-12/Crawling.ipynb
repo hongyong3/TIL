{
 "cells": [
  {
   "cell_type": "code",
   "execution_count": 13,
   "metadata": {},
   "outputs": [],
   "source": [
    "import requests, pprint, http.client, json"
   ]
  },
  {
   "cell_type": "code",
   "execution_count": 29,
   "metadata": {},
   "outputs": [],
   "source": [
    "#   movies.json\n",
    "\n",
    "conn = http.client.HTTPSConnection(\"api.themoviedb.org\")\n",
    "\n",
    "payload = \"{}\"\n",
    "dataObject = []\n",
    "for i in range(20):\n",
    "   conn.request(\"GET\", \"/3/movie/popular?page=\"+f\"{i+1}\"+\"&language=ko-kr&api_key=f55decdd8b4533ff751d5e5df47ac372\", payload)\n",
    "   res = conn.getresponse()\n",
    "   data = res.read()\n",
    "   dataObject += json.loads(data)['results']\n",
    "\n",
    "with open('movies1.json', 'w', encoding='utf-8') as f:\n",
    "        json.dump(dataObject, f, ensure_ascii=False, indent=4)"
   ]
  },
  {
   "cell_type": "code",
   "execution_count": 30,
   "metadata": {},
   "outputs": [],
   "source": [
    "movie_id = []\n",
    "for i in range(len(dataObject)):\n",
    "    movie_id.append(dataObject[i][\"id\"])"
   ]
  },
  {
   "cell_type": "code",
   "execution_count": null,
   "metadata": {},
   "outputs": [],
   "source": [
    "#  actor1.json\n",
    "\n",
    "conn = http.client.HTTPSConnection(\"api.themoviedb.org\")\n",
    "payload = \"{}\"\n",
    "raw = []\n",
    "dataObject = []\n",
    "\n",
    "for i in movie_id:\n",
    "    conn.request(\"GET\", \"/3/movie/\"+f\"{i}\"+\"/credits?api_key=f55decdd8b4533ff751d5e5df47ac372\", payload)\n",
    "    res = conn.getresponse()\n",
    "    data = json.loads(res.read())\n",
    "    dataObject += [{\"movie_id\" : i}]\n",
    "    \n",
    "    for j in range(3):\n",
    "        try:\n",
    "            raw += data['cast']\n",
    "            dataObject.append(raw[j])\n",
    "        except:\n",
    "            pass\n",
    "        raw = []\n",
    "    with open('actor1.json', 'w', encoding='utf-8') as f:\n",
    "        json.dump(dataObject, f, ensure_ascii=False, indent=4)"
   ]
  },
  {
   "cell_type": "code",
   "execution_count": null,
   "metadata": {},
   "outputs": [],
   "source": [
    "conn = http.client.HTTPSConnection(\"api.themoviedb.org\")\n",
    "payload = \"{}\"\n",
    "raw = []\n",
    "dataObject = []\n",
    "dataDetail = []\n",
    "\n",
    "for i in movie_id:\n",
    "    conn.request(\"GET\", \"/3/movie/\"+f\"{i}\"+\"/credits?api_key=f55decdd8b4533ff751d5e5df47ac372\", payload)\n",
    "    res = conn.getresponse()\n",
    "    data = json.loads(res.read())\n",
    "    dataObject += [{\"movie_id\" : i}]\n",
    "    \n",
    "    for j in range(3):\n",
    "        try:\n",
    "            raw += data['cast']\n",
    "            dataObject.append(raw[j])\n",
    "        except:\n",
    "            pass\n",
    "        raw = []\n",
    "    dataDetail += [dataObject]\n",
    "    with open('actor2.json', 'w', encoding='utf-8') as f:\n",
    "        json.dump(dataObject, f, ensure_ascii=False, indent=4)"
   ]
  },
  {
   "cell_type": "code",
   "execution_count": 31,
   "metadata": {},
   "outputs": [
    {
     "ename": "KeyError",
     "evalue": "'cast'",
     "output_type": "error",
     "traceback": [
      "\u001b[1;31m---------------------------------------------------------------------------\u001b[0m",
      "\u001b[1;31mKeyError\u001b[0m                                  Traceback (most recent call last)",
      "\u001b[1;32m<ipython-input-31-8d7c02a5be60>\u001b[0m in \u001b[0;36m<module>\u001b[1;34m\u001b[0m\n\u001b[0;32m     11\u001b[0m     \u001b[0mres\u001b[0m \u001b[1;33m=\u001b[0m \u001b[0mconn\u001b[0m\u001b[1;33m.\u001b[0m\u001b[0mgetresponse\u001b[0m\u001b[1;33m(\u001b[0m\u001b[1;33m)\u001b[0m\u001b[1;33m\u001b[0m\u001b[1;33m\u001b[0m\u001b[0m\n\u001b[0;32m     12\u001b[0m     \u001b[0mdata\u001b[0m \u001b[1;33m=\u001b[0m \u001b[0mjson\u001b[0m\u001b[1;33m.\u001b[0m\u001b[0mloads\u001b[0m\u001b[1;33m(\u001b[0m\u001b[0mres\u001b[0m\u001b[1;33m.\u001b[0m\u001b[0mread\u001b[0m\u001b[1;33m(\u001b[0m\u001b[1;33m)\u001b[0m\u001b[1;33m)\u001b[0m\u001b[1;33m\u001b[0m\u001b[1;33m\u001b[0m\u001b[0m\n\u001b[1;32m---> 13\u001b[1;33m     \u001b[1;32mfor\u001b[0m \u001b[0mj\u001b[0m \u001b[1;32min\u001b[0m \u001b[0mrange\u001b[0m\u001b[1;33m(\u001b[0m\u001b[0mmin\u001b[0m\u001b[1;33m(\u001b[0m\u001b[1;36m3\u001b[0m\u001b[1;33m,\u001b[0m \u001b[0mlen\u001b[0m\u001b[1;33m(\u001b[0m\u001b[0mdata\u001b[0m\u001b[1;33m[\u001b[0m\u001b[1;34m'cast'\u001b[0m\u001b[1;33m]\u001b[0m\u001b[1;33m)\u001b[0m\u001b[1;33m)\u001b[0m\u001b[1;33m)\u001b[0m\u001b[1;33m:\u001b[0m\u001b[1;33m\u001b[0m\u001b[1;33m\u001b[0m\u001b[0m\n\u001b[0m\u001b[0;32m     14\u001b[0m         \u001b[0mdataDetail\u001b[0m \u001b[1;33m=\u001b[0m \u001b[1;33m{\u001b[0m\u001b[1;33m}\u001b[0m\u001b[1;33m\u001b[0m\u001b[1;33m\u001b[0m\u001b[0m\n\u001b[0;32m     15\u001b[0m         \u001b[0mdataDetail\u001b[0m\u001b[1;33m[\u001b[0m\u001b[1;34m'pk'\u001b[0m\u001b[1;33m]\u001b[0m \u001b[1;33m=\u001b[0m \u001b[0mdata\u001b[0m\u001b[1;33m[\u001b[0m\u001b[1;34m'cast'\u001b[0m\u001b[1;33m]\u001b[0m\u001b[1;33m[\u001b[0m\u001b[0mj\u001b[0m\u001b[1;33m]\u001b[0m\u001b[1;33m[\u001b[0m\u001b[1;34m'id'\u001b[0m\u001b[1;33m]\u001b[0m\u001b[1;33m\u001b[0m\u001b[1;33m\u001b[0m\u001b[0m\n",
      "\u001b[1;31mKeyError\u001b[0m: 'cast'"
     ]
    }
   ],
   "source": [
    "#  actor.json 완성작\n",
    "\n",
    "conn = http.client.HTTPSConnection(\"api.themoviedb.org\")\n",
    "payload = \"{}\"\n",
    "raw = []\n",
    "dataObject = []\n",
    "\n",
    "for i in movie_id:\n",
    "    conn.request(\"GET\", \"/3/movie/\"+f\"{i}\"+\"/credits?api_key=f55decdd8b4533ff751d5e5df47ac372\", payload)\n",
    "#     conn.request(\"GET\", \"/3/movie/\"+f\"{i}\"+\"/credits?api_key=f55decdd8b4533ff751d5e5df47ac372\", payload)\n",
    "    res = conn.getresponse()\n",
    "    data = json.loads(res.read())\n",
    "    for j in range(min(3, len(data['cast']))):\n",
    "        dataDetail = {}\n",
    "        dataDetail['pk'] = data['cast'][j]['id']\n",
    "        dataDetail['model'] = 'movies.actor'\n",
    "        dataDetail['fields'] = {\n",
    "            'name': data['cast'][j]['name'],\n",
    "            'img': data['cast'][j]['profile_path'],\n",
    "            'acted': i\n",
    "        }\n",
    "        dataObject.append(dataDetail)\n",
    "\n",
    "    with open('actor.json', 'w', encoding='utf-8') as f:\n",
    "        json.dump(dataObject, f, ensure_ascii=False, indent=4)"
   ]
  },
  {
   "cell_type": "code",
   "execution_count": 28,
   "metadata": {},
   "outputs": [],
   "source": [
    "#  director.json 완성작\n",
    "\n",
    "conn = http.client.HTTPSConnection(\"api.themoviedb.org\")\n",
    "payload = \"{}\"\n",
    "dataObject = []\n",
    "\n",
    "\n",
    "for i in movie_id:\n",
    "    conn.request(\"GET\", \"/3/movie/\"+f\"{i}\"+\"/credits?api_key=f55decdd8b4533ff751d5e5df47ac372\", payload)\n",
    "    res = conn.getresponse()\n",
    "    data = json.loads(res.read())\n",
    "    for j in range(len(data['crew'])):\n",
    "        if data['crew'][j]['job'] == 'Director':\n",
    "            dataDetail = {}\n",
    "            dataDetail['pk'] = data['crew'][j]['id']\n",
    "            dataDetail['model'] = 'movies.director'\n",
    "            dataDetail['fields'] = {\n",
    "             'name': data['crew'][j]['name'],\n",
    "            'job': data['crew'][j]['job'],\n",
    "            'img': data['crew'][j]['profile_path'],\n",
    "            'directed': i\n",
    "            }\n",
    "            dataObject.append(dataDetail)\n",
    "            \n",
    "    with open('director.json', 'w', encoding='utf-8') as f:\n",
    "        json.dump(dataObject, f, ensure_ascii=False, indent=4)"
   ]
  },
  {
   "cell_type": "code",
   "execution_count": null,
   "metadata": {},
   "outputs": [],
   "source": [
    "#  genres.json 완성작\n",
    "\n",
    "conn = http.client.HTTPSConnection(\"api.themoviedb.org\")\n",
    "payload = \"{}\"\n",
    "dataObject = []\n",
    "conn.request(\"GET\", \"/3/genre/movie/list?language=ko-kr&api_key=f55decdd8b4533ff751d5e5df47ac372\", payload)\n",
    "res = conn.getresponse()\n",
    "data = res.read()\n",
    "dataObject += json.loads(data)['genres']\n",
    "\n",
    "with open('genres.json', 'w', encoding='utf-8') as f:\n",
    "    json.dump(dataObject, f, ensure_ascii=False, indent=4)"
   ]
  }
 ],
 "metadata": {
  "kernelspec": {
   "display_name": "Python 3",
   "language": "python",
   "name": "python3"
  },
  "language_info": {
   "codemirror_mode": {
    "name": "ipython",
    "version": 3
   },
   "file_extension": ".py",
   "mimetype": "text/x-python",
   "name": "python",
   "nbconvert_exporter": "python",
   "pygments_lexer": "ipython3",
   "version": "3.6.7"
  }
 },
 "nbformat": 4,
 "nbformat_minor": 2
}

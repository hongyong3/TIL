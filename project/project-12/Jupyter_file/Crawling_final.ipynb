{
 "cells": [
  {
   "cell_type": "code",
   "execution_count": 2,
   "metadata": {},
   "outputs": [],
   "source": [
    "import requests, pprint, http.client, json"
   ]
  },
  {
   "cell_type": "code",
   "execution_count": 3,
   "metadata": {},
   "outputs": [],
   "source": [
    "#  movie.json 완성작(popular)\n",
    "\n",
    "conn = http.client.HTTPSConnection(\"api.themoviedb.org\")\n",
    "dataObject = []\n",
    "k = 0\n",
    "payload = \"{}\"\n",
    "for i in range(1):\n",
    "    conn.request(\"GET\", \"/3/movie/popular?page=\"+\"f{i+1}\"+\"&language=ko-kr&api_key=f55decdd8b4533ff751d5e5df47ac372\", payload)\n",
    "    res = conn.getresponse()\n",
    "    data = json.loads(res.read())\n",
    "    for j in range(len(data['results'])):\n",
    "        k += 1\n",
    "        dataDetail = {}\n",
    "        dataDetail['pk'] = k\n",
    "        dataDetail['model'] = 'movies.Movie'\n",
    "        dataDetail['fields'] = {\n",
    "            'movie_id': data['results'][j]['id'],\n",
    "            'title': data['results'][j]['title'],\n",
    "            'poster_path': data['results'][j]['poster_path'],\n",
    "            'genres': data['results'][j]['genre_ids'],\n",
    "            'overview': data['results'][j]['overview'],\n",
    "            'release_date': data['results'][j]['release_date']\n",
    "        }\n",
    "        dataObject.append(dataDetail)\n",
    "    \n",
    "# with open('movie2.json', 'w', encoding='utf-8') as f:\n",
    "#         json.dump(dataObject, f, ensure_ascii=False, indent=4)"
   ]
  },
  {
   "cell_type": "code",
   "execution_count": null,
   "metadata": {},
   "outputs": [],
   "source": [
    "#   movies.json 완성작(now-playing)\n",
    "\n",
    "conn = http.client.HTTPSConnection(\"api.themoviedb.org\")\n",
    "\n",
    "payload = \"{}\"\n",
    "dataObject = []\n",
    "for i in range(20):\n",
    "   conn.request(\"GET\", \"/3/movie/popular?page=\"+f\"{i+1}\"+\"&language=ko-kr&api_key=f55decdd8b4533ff751d5e5df47ac372\", payload)\n",
    "   res = conn.getresponse()\n",
    "   data = res.read()\n",
    "   dataObject += json.loads(data)['results']\n",
    "\n",
    "with open('movies1.json', 'w', encoding='utf-8') as f:\n",
    "        json.dump(dataObject, f, ensure_ascii=False, indent=4)"
   ]
  },
  {
   "cell_type": "code",
   "execution_count": 4,
   "metadata": {},
   "outputs": [],
   "source": [
    "#  movie.json (popular)\n",
    "\n",
    "movie_id = []\n",
    "for i in range(len(dataObject)):\n",
    "    movie_id.append(dataObject[i][\"pk\"])"
   ]
  },
  {
   "cell_type": "code",
   "execution_count": null,
   "metadata": {},
   "outputs": [],
   "source": [
    "#  movie.json (now-playing)\n",
    "\n",
    "movie_id = []\n",
    "for i in range(len(dataObject)):\n",
    "    movie_id.append(dataObject[i][\"id\"])"
   ]
  },
  {
   "cell_type": "code",
   "execution_count": 17,
   "metadata": {},
   "outputs": [
    {
     "ename": "KeyError",
     "evalue": "'cast'",
     "output_type": "error",
     "traceback": [
      "\u001b[1;31m---------------------------------------------------------------------------\u001b[0m",
      "\u001b[1;31mKeyError\u001b[0m                                  Traceback (most recent call last)",
      "\u001b[1;32m<ipython-input-17-97281919d5dd>\u001b[0m in \u001b[0;36m<module>\u001b[1;34m\u001b[0m\n\u001b[0;32m     11\u001b[0m \u001b[1;33m\u001b[0m\u001b[0m\n\u001b[0;32m     12\u001b[0m     \u001b[1;31m#print(data)\u001b[0m\u001b[1;33m\u001b[0m\u001b[1;33m\u001b[0m\u001b[1;33m\u001b[0m\u001b[0m\n\u001b[1;32m---> 13\u001b[1;33m     \u001b[1;32mfor\u001b[0m \u001b[0mj\u001b[0m \u001b[1;32min\u001b[0m \u001b[0mrange\u001b[0m\u001b[1;33m(\u001b[0m\u001b[0mmin\u001b[0m\u001b[1;33m(\u001b[0m\u001b[1;36m3\u001b[0m\u001b[1;33m,\u001b[0m \u001b[0mlen\u001b[0m\u001b[1;33m(\u001b[0m\u001b[0mdata\u001b[0m\u001b[1;33m[\u001b[0m\u001b[1;34m'cast'\u001b[0m\u001b[1;33m]\u001b[0m\u001b[1;33m)\u001b[0m\u001b[1;33m)\u001b[0m\u001b[1;33m)\u001b[0m\u001b[1;33m:\u001b[0m\u001b[1;33m\u001b[0m\u001b[1;33m\u001b[0m\u001b[0m\n\u001b[0m\u001b[0;32m     14\u001b[0m         \u001b[0mdataDetail\u001b[0m \u001b[1;33m=\u001b[0m \u001b[1;33m{\u001b[0m\u001b[1;33m}\u001b[0m\u001b[1;33m\u001b[0m\u001b[1;33m\u001b[0m\u001b[0m\n\u001b[0;32m     15\u001b[0m         \u001b[0mdataDetail\u001b[0m\u001b[1;33m[\u001b[0m\u001b[1;34m'pk'\u001b[0m\u001b[1;33m]\u001b[0m \u001b[1;33m=\u001b[0m \u001b[0mdata\u001b[0m\u001b[1;33m[\u001b[0m\u001b[1;34m'cast'\u001b[0m\u001b[1;33m]\u001b[0m\u001b[1;33m[\u001b[0m\u001b[0mj\u001b[0m\u001b[1;33m]\u001b[0m\u001b[1;33m[\u001b[0m\u001b[1;34m'id'\u001b[0m\u001b[1;33m]\u001b[0m\u001b[1;33m\u001b[0m\u001b[1;33m\u001b[0m\u001b[0m\n",
      "\u001b[1;31mKeyError\u001b[0m: 'cast'"
     ]
    }
   ],
   "source": [
    "#  actor.json 완성작\n",
    "\n",
    "conn = http.client.HTTPSConnection(\"api.themoviedb.org\")\n",
    "payload = \"{}\"\n",
    "dataObject = []\n",
    "\n",
    "for i in movie_id[1:]:\n",
    "    conn.request(\"GET\", \"/3/movie/\"+f\"{i}\"+\"/credits?api_key=f55decdd8b4533ff751d5e5df47ac372\", payload)\n",
    "    res = conn.getresponse()\n",
    "    data = json.loads(res.read())\n",
    "    \n",
    "    #print(data)\n",
    "    for j in range(min(3, len(data['cast']))):\n",
    "        dataDetail = {}\n",
    "        dataDetail['pk'] = data['cast'][j]['id']\n",
    "        dataDetail['model'] = 'movies.Actor'\n",
    "        dataDetail['fields'] = {\n",
    "            'name': data['cast'][j]['name'],\n",
    "            'img': data['cast'][j]['profile_path'],\n",
    "            'movies': i\n",
    "        }\n",
    "        dataObject.append(dataDetail)\n",
    "\n",
    "#     with open('actor1441.json', 'w', encoding='utf-8') as f:\n",
    "#         json.dump(dataObject, f, ensure_ascii=False, indent=4)"
   ]
  },
  {
   "cell_type": "code",
   "execution_count": null,
   "metadata": {},
   "outputs": [],
   "source": [
    "#  director.json 완성작\n",
    "\n",
    "conn = http.client.HTTPSConnection(\"api.themoviedb.org\")\n",
    "payload = \"{}\"\n",
    "dataObject = []\n",
    "\n",
    "\n",
    "for i in movie_id:\n",
    "    conn.request(\"GET\", \"/3/movie/\"+f\"{i}\"+\"/credits?api_key=f55decdd8b4533ff751d5e5df47ac372\", payload)\n",
    "    res = conn.getresponse()\n",
    "    data = json.loads(res.read())\n",
    "    for j in range(len(data['crew'])):\n",
    "        if data['crew'][j]['job'] == 'Director':\n",
    "            dataDetail = {}\n",
    "            dataDetail['pk'] = data['crew'][j]['id']\n",
    "            dataDetail['model'] = 'movies.Director'\n",
    "            dataDetail['fields'] = {\n",
    "                'name': data['crew'][j]['name'],\n",
    "                'img': data['crew'][j]['profile_path'],\n",
    "                'movies': i\n",
    "            }\n",
    "            dataObject.append(dataDetail)\n",
    "            \n",
    "    with open('director1441.json', 'w', encoding='utf-8') as f:\n",
    "        json.dump(dataObject, f, ensure_ascii=False, indent=4)"
   ]
  },
  {
   "cell_type": "code",
   "execution_count": null,
   "metadata": {},
   "outputs": [],
   "source": [
    "#  genres.json 완성작\n",
    "\n",
    "conn = http.client.HTTPSConnection(\"api.themoviedb.org\")\n",
    "payload = \"{}\"\n",
    "dataObject = []\n",
    "conn.request(\"GET\", \"/3/genre/movie/list?language=ko-kr&api_key=f55decdd8b4533ff751d5e5df47ac372\", payload)\n",
    "res = conn.getresponse()\n",
    "data = json.loads(res.read())\n",
    "for j in range(len(data['genres'])):\n",
    "    dataDetail = {}\n",
    "    dataDetail['pk'] = data['genres'][j]['id']\n",
    "    dataDetail['model'] = 'movies.Genre'\n",
    "    dataDetail['fields'] = {\n",
    "        'name': data['genres'][j]['name']\n",
    "    }\n",
    "    dataObject.append(dataDetail)\n",
    "\n",
    "with open('genre1.json', 'w', encoding='utf-8') as f:\n",
    "    json.dump(dataObject, f, ensure_ascii=False, indent=4)"
   ]
  }
 ],
 "metadata": {
  "kernelspec": {
   "display_name": "Python 3",
   "language": "python",
   "name": "python3"
  },
  "language_info": {
   "codemirror_mode": {
    "name": "ipython",
    "version": 3
   },
   "file_extension": ".py",
   "mimetype": "text/x-python",
   "name": "python",
   "nbconvert_exporter": "python",
   "pygments_lexer": "ipython3",
   "version": "3.6.7"
  }
 },
 "nbformat": 4,
 "nbformat_minor": 2
}

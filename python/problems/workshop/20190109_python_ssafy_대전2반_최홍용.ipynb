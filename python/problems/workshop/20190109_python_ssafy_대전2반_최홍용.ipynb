{
 "cells": [
  {
   "cell_type": "code",
   "execution_count": 10,
   "metadata": {},
   "outputs": [
    {
     "name": "stdout",
     "output_type": "stream",
     "text": [
      "4\n"
     ]
    }
   ],
   "source": [
    "# 내 풀이\n",
    "\n",
    "# def my_sqrt(n):\n",
    "#     n >= 0\n",
    "#     k > j > i >= 0\n",
    "#     for i in range(n):\n",
    "#         if i**2 < j**2 < k**2:\n",
    "#             i.isnumber(replace(i, '((i+k)/2)'))\n",
    "#             if i**2 < j**2 < k**2:\n",
    "#                 k.isnumber(replace(k, '((j+k)/2)'))\n",
    "#     return my_sqrt()\n",
    "\n",
    "# 상근이형 풀이\n",
    "\n",
    "def my_sqrt(num):\n",
    "    a = 0\n",
    "    b = 2*num\n",
    "                #시작 할 때 0 < num < b로 시작\n",
    "    for i in range(50):\n",
    "        c = ((a+b)/2)   # (a+b)/2을 c에 저장\n",
    "        if c**2 > num:\n",
    "            b = c     # c가 num보다 크면(오른쪽이면) b에 c값 넣기\n",
    "        else:\n",
    "            a = c     # c가 num보다 작으면(왼쪽이면) a에 c값 넣기\n",
    "    return (a + b) / 2  #마지막 출력 때 두 값의 평균내서 넣기\n",
    "print(my_sqrt(2))"
   ]
  }
 ],
 "metadata": {
  "kernelspec": {
   "display_name": "Python 3",
   "language": "python",
   "name": "python3"
  },
  "language_info": {
   "codemirror_mode": {
    "name": "ipython",
    "version": 3
   },
   "file_extension": ".py",
   "mimetype": "text/x-python",
   "name": "python",
   "nbconvert_exporter": "python",
   "pygments_lexer": "ipython3",
   "version": "3.6.7"
  }
 },
 "nbformat": 4,
 "nbformat_minor": 2
}
